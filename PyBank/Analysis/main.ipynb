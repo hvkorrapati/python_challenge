{
 "cells": [
  {
   "cell_type": "code",
   "execution_count": 1,
   "id": "a8a37c5a",
   "metadata": {},
   "outputs": [],
   "source": [
    "# import packages\n",
    "\n",
    "import os\n",
    "import csv"
   ]
  },
  {
   "cell_type": "code",
   "execution_count": 2,
   "id": "e388a8d5",
   "metadata": {},
   "outputs": [],
   "source": [
    "# set file path\n",
    "\n",
    "budget_data_csv = os.path.join('/Users/Harish/Desktop/python_challenge/PyBank/Resources/budget_data.csv')"
   ]
  },
  {
   "cell_type": "code",
   "execution_count": 3,
   "id": "05c7f8ef",
   "metadata": {},
   "outputs": [],
   "source": [
    "# set lists and empty variables\n",
    "\n",
    "months = []\n",
    "profits =[]\n",
    "change_profits =[]\n",
    "change = 0\n",
    "profits_int = []"
   ]
  },
  {
   "cell_type": "code",
   "execution_count": 4,
   "id": "0fd11a59",
   "metadata": {},
   "outputs": [],
   "source": [
    "# read csv \n",
    "\n",
    "with open(budget_data_csv) as csvfile:\n",
    "    csvreader = csv.reader(csvfile, delimiter=\",\")\n",
    "    next(csvreader)\n",
    "\n",
    "    \n",
    "# add months and profits to lists\n",
    "\n",
    "    for row in csvreader:\n",
    "        months.append(row[0])\n",
    "        profits.append(row[1])\n",
    "\n",
    "        \n",
    "# define profits as integers \n",
    "\n",
    "    for x in profits:\n",
    "        profits_int.append(int(x))\n",
    "\n",
    "        \n",
    "# calculate number of months and total profit\n",
    "\n",
    "    no_months = len(months)\n",
    "    total_profit = sum((profits_int))\n",
    "\n",
    "    \n",
    "# calculate change in profits month-to-month\n",
    "\n",
    "    for i in range(no_months-1):\n",
    "        change = (profits_int[i+1])-(profits_int[i])\n",
    "        change_profits.append(change)\n",
    "\n",
    "        \n",
    "# calculate metrics \n",
    "\n",
    "    average_change = sum(change_profits)/len(change_profits)\n",
    "    greatest_gain = max(change_profits)\n",
    "    greatest_loss = min(change_profits)\n",
    "\n",
    "    greatest_gain_date = months[change_profits.index(greatest_gain)+1]\n",
    "    greatest_loss_date = months[change_profits.index(greatest_loss)+1]\n"
   ]
  },
  {
   "cell_type": "code",
   "execution_count": 5,
   "id": "28146af8",
   "metadata": {},
   "outputs": [
    {
     "name": "stdout",
     "output_type": "stream",
     "text": [
      "Total Months: 86\n",
      "Total Profit: 22564198\n",
      "Average Profit: -8311.105882352942\n",
      "Greatest Gain: Aug-16 (1862002)\n",
      "Greatest Loss: Feb-14 (-1825558)\n"
     ]
    }
   ],
   "source": [
    "# print results \n",
    "\n",
    "print(f\"Total Months: {no_months}\")\n",
    "print(f\"Total Profit: {total_profit}\")\n",
    "print(f\"Average Profit: {average_change}\")\n",
    "print(f\"Greatest Gain: {greatest_gain_date} ({greatest_gain})\")\n",
    "print(f\"Greatest Loss: {greatest_loss_date} ({greatest_loss})\")"
   ]
  },
  {
   "cell_type": "code",
   "execution_count": null,
   "id": "d29a4593",
   "metadata": {},
   "outputs": [],
   "source": []
  }
 ],
 "metadata": {
  "kernelspec": {
   "display_name": "Python 3 (ipykernel)",
   "language": "python",
   "name": "python3"
  },
  "language_info": {
   "codemirror_mode": {
    "name": "ipython",
    "version": 3
   },
   "file_extension": ".py",
   "mimetype": "text/x-python",
   "name": "python",
   "nbconvert_exporter": "python",
   "pygments_lexer": "ipython3",
   "version": "3.9.7"
  }
 },
 "nbformat": 4,
 "nbformat_minor": 5
}
