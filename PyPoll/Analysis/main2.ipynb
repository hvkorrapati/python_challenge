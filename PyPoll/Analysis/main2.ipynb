{
 "cells": [
  {
   "cell_type": "code",
   "execution_count": 1,
   "id": "b7a7ac31",
   "metadata": {},
   "outputs": [],
   "source": [
    "from enum import unique\n",
    "import os\n",
    "import csv"
   ]
  },
  {
   "cell_type": "code",
   "execution_count": 2,
   "id": "84b5983a",
   "metadata": {},
   "outputs": [],
   "source": [
    "#set file path\n",
    "election_data_csv = os.path.join('/Users/Harish/Desktop/python_challenge/PyPoll/Resources/election_data.csv')"
   ]
  },
  {
   "cell_type": "code",
   "execution_count": 3,
   "id": "cc4edce5",
   "metadata": {},
   "outputs": [],
   "source": [
    "#define lists and empty variables\n",
    "votes =[]\n",
    "county = []\n",
    "candidates = []\n",
    "\n",
    "DeGette_total = 0\n",
    "Doane_total = 0\n",
    "Stockham_total = 0"
   ]
  },
  {
   "cell_type": "code",
   "execution_count": 4,
   "id": "8165751e",
   "metadata": {},
   "outputs": [],
   "source": [
    "#open csv\n",
    "with open(election_data_csv) as csvfile:\n",
    "    csvreader = csv.reader(csvfile, delimiter=\",\")\n",
    "    next(csvreader)\n",
    "\n",
    "#add votes and candidates to respective lists\n",
    "    for row in csvreader:\n",
    "        votes.append(row[0])\n",
    "        candidates.append(row[2])\n",
    "        \n",
    "#calculate number of total votes and list of unique candidates\n",
    "    total_votes = len(votes)\n",
    "    unique_candidates = sorted(set(candidates))\n",
    "\n",
    "#count votes for each candidate\n",
    "    for i in range(len(candidates)):\n",
    "        if candidates[i] == unique_candidates[1]:\n",
    "            DeGette_total = DeGette_total + 1\n",
    "        elif candidates[i] == unique_candidates[2]:\n",
    "            Doane_total = Doane_total +1\n",
    "        else: \n",
    "            Stockham_total = Stockham_total +1\n",
    "            \n",
    "    # Define percentage of vote received for each candidate\n",
    "    DeGette_percentage = (DeGette_total/total_votes)*100\n",
    "    Doane_percentage = (Doane_total/total_votes)*100\n",
    "    Stockham_percentage = (Stockham_total/total_votes)*100\n",
    "    \n",
    "# Determine winner   \n",
    "    if DeGette_percentage > Doane_percentage and DeGette_percentage > Stockham_percentage:\n",
    "        winner = \"Diana DeGette\"\n",
    "\n",
    "    elif Doane_percentage > DeGette_percentage and Doane_percentage > Stockham_percentage:\n",
    "        winner = \"Raymon Antony Doane\"\n",
    "\n",
    "    else: winner = \"Charles Casper Stockham\""
   ]
  },
  {
   "cell_type": "code",
   "execution_count": 5,
   "id": "56b424ec",
   "metadata": {},
   "outputs": [
    {
     "name": "stdout",
     "output_type": "stream",
     "text": [
      "Election Results\n",
      "--------------------------\n",
      "Total votes: 369711\n",
      "--------------------------\n",
      "Diana DeGette: 73.81224794501652% (272892)\n",
      "Raymon Anthony Doane: 3.1392087333079077% (11606)\n",
      "Charles Casper Stockham: 23.04854332167558% (85213)\n",
      "--------------------------\n",
      "Winner: Diana DeGette\n"
     ]
    }
   ],
   "source": [
    "# print results\n",
    "\n",
    "print(\"Election Results\")\n",
    "print(f\"--------------------------\")\n",
    "print(f\"Total votes: {total_votes}\")\n",
    "print(f\"--------------------------\")\n",
    "print(f\"Diana DeGette: {DeGette_percentage}% ({DeGette_total})\")\n",
    "print(f\"Raymon Anthony Doane: {Doane_percentage}% ({Doane_total})\")\n",
    "print(f\"Charles Casper Stockham: {Stockham_percentage}% ({Stockham_total})\")\n",
    "print(f\"--------------------------\")\n",
    "print(f\"Winner: {winner}\")"
   ]
  },
  {
   "cell_type": "code",
   "execution_count": null,
   "id": "2f518bec",
   "metadata": {},
   "outputs": [],
   "source": []
  }
 ],
 "metadata": {
  "kernelspec": {
   "display_name": "Python 3 (ipykernel)",
   "language": "python",
   "name": "python3"
  },
  "language_info": {
   "codemirror_mode": {
    "name": "ipython",
    "version": 3
   },
   "file_extension": ".py",
   "mimetype": "text/x-python",
   "name": "python",
   "nbconvert_exporter": "python",
   "pygments_lexer": "ipython3",
   "version": "3.9.7"
  }
 },
 "nbformat": 4,
 "nbformat_minor": 5
}
